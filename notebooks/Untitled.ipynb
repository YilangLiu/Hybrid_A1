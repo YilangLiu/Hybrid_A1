{
 "cells": [
  {
   "cell_type": "code",
   "execution_count": 3,
   "id": "paperback-sheffield",
   "metadata": {},
   "outputs": [],
   "source": [
    "from pybullet_envs import gym_pendulum_envs, gym_manipulator_envs, gym_locomotion_envs\n",
    "from gym.envs import classic_control, box2d, mujoco\n",
    "# from pybullet_envs.bullet.racecarGymEnv import RacecarGymEnv\n",
    "# from pybullet_envs.deep_mimic.gym_env import HumanoidDeepMimicBackflipBulletEnv\n",
    "# from pybullet_envs.bullet.minitaur_gym_env import MinitaurBulletEnv\n",
    "# from rex_gym.envs.gym.galloping_env import RexReactiveEnv\n",
    "from roboschool.gym_pendulums import RoboschoolInvertedPendulumSwingup\n",
    "\n",
    "env_list = {\n",
    "    'InvertedPendulumRoboschoolEnv' : RoboschoolInvertedPendulumSwingup,\n",
    "    'HalfCheetahEnv' : mujoco.HalfCheetahEnv,\n",
    "    'HopperEnv' : mujoco.HopperEnv,\n",
    "    'AntBulletEnv' : gym_locomotion_envs.AntBulletEnv,\n",
    "    # 'HalfCheetahBulletEnv' : gym_locomotion_envs.HalfCheetahBulletEnv,\n",
    "    # 'HopperBulletEnv' : gym_locomotion_envs.HopperBulletEnv,\n",
    "    # 'HopperBulletEnv' : HumanoidDeepMimicBackflipBulletEnv,\n",
    "#     'ReacherBulletEnv' : gym_manipulator_envs.ReacherBulletEnv,\n",
    "    # 'Walker2DEnv' : gym_locomotion_envs.Walker2DBulletEnv\n",
    "    # 'RexEnv' : RexReactiveEnv\n",
    "    'ReacherEnv' : mujoco.ReacherEnv,\n",
    "    'PendulumEnv' : classic_control.PendulumEnv,\n",
    "    'InvertedPendulumBulletEnv' : gym_pendulum_envs.InvertedPendulumSwingupBulletEnv,\n",
    "}\n",
    "\n",
    "def getlist():\n",
    "    out_str = ''\n",
    "    for env_name in env_list.keys():\n",
    "        out_str += env_name + '\\n'\n",
    "    return out_str\n"
   ]
  },
  {
   "cell_type": "code",
   "execution_count": 8,
   "id": "compound-crest",
   "metadata": {},
   "outputs": [],
   "source": [
    "# import roboschool\n",
    "# import gym\n",
    "# print(\"\\n\".join(['- ' + spec.id for spec in gym.envs.registry.all() if spec.id.startswith('Roboschool')]))"
   ]
  },
  {
   "cell_type": "code",
   "execution_count": 11,
   "id": "fuzzy-affair",
   "metadata": {},
   "outputs": [
    {
     "name": "stdout",
     "output_type": "stream",
     "text": [
      "no argument render,  assuming env.render will just work\n"
     ]
    },
    {
     "data": {
      "text/plain": [
       "array([ 0.        ,  0.        ,  0.        ,  0.        ,  0.        ,\n",
       "        0.        ,  0.        ,  0.01324421,  0.08362801,  0.06982163,\n",
       "        0.08777143, -0.04417599,  0.01624381, -0.02180371,  0.821     ,\n",
       "       -0.6       ,  0.        ,  0.5       , -0.175     , -0.27      ,\n",
       "        0.56125696,  0.36770276, -0.323     ])"
      ]
     },
     "execution_count": 11,
     "metadata": {},
     "output_type": "execute_result"
    }
   ],
   "source": [
    "import sys\n",
    "sys.path.append('..')\n",
    "from sac_lib import NormalizedActions\n",
    "import numpy as np\n",
    "\n",
    "env_name = mujoco.StrikerEnv\n",
    "try:\n",
    "    env = NormalizedActions(env_name(render=True))\n",
    "except TypeError as err:\n",
    "    print('no argument render,  assuming env.render will just work')\n",
    "    env = NormalizedActions(env_name())\n",
    "\n",
    "assert np.any(np.abs(env.action_space.low) <= 1.) and  np.any(np.abs(env.action_space.high) <= 1.), 'Action space not normalizd'\n",
    "env.reset()\n"
   ]
  },
  {
   "cell_type": "code",
   "execution_count": null,
   "id": "legal-score",
   "metadata": {},
   "outputs": [],
   "source": []
  },
  {
   "cell_type": "code",
   "execution_count": null,
   "id": "handed-structure",
   "metadata": {},
   "outputs": [],
   "source": []
  }
 ],
 "metadata": {
  "kernelspec": {
   "display_name": "Python 3",
   "language": "python",
   "name": "python3"
  },
  "language_info": {
   "codemirror_mode": {
    "name": "ipython",
    "version": 3
   },
   "file_extension": ".py",
   "mimetype": "text/x-python",
   "name": "python",
   "nbconvert_exporter": "python",
   "pygments_lexer": "ipython3",
   "version": "3.6.9"
  }
 },
 "nbformat": 4,
 "nbformat_minor": 5
}
